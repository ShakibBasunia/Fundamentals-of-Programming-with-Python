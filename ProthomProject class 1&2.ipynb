{
 "cells": [
  {
   "cell_type": "code",
   "execution_count": 1,
   "id": "16ff0f21-07a6-4316-9135-ee3f5865f472",
   "metadata": {},
   "outputs": [
    {
     "data": {
      "text/plain": [
       "2"
      ]
     },
     "execution_count": 1,
     "metadata": {},
     "output_type": "execute_result"
    }
   ],
   "source": [
    "Class  And 2 Note prctice"
   ]
  },
  {
   "cell_type": "code",
   "execution_count": 3,
   "id": "c7bee5b7-8ef4-4eb1-844a-c041492d866e",
   "metadata": {},
   "outputs": [
    {
     "data": {
      "text/plain": [
       "10"
      ]
     },
     "execution_count": 3,
     "metadata": {},
     "output_type": "execute_result"
    }
   ],
   "source": [
    "5+5"
   ]
  },
  {
   "cell_type": "code",
   "execution_count": 20,
   "id": "3eab21ea-543c-47c7-a646-f10491b5a350",
   "metadata": {},
   "outputs": [
    {
     "name": "stdout",
     "output_type": "stream",
     "text": [
      "Shakib\n"
     ]
    }
   ],
   "source": [
    "print('Shakib')"
   ]
  },
  {
   "cell_type": "code",
   "execution_count": 48,
   "id": "0fcb21fb-0562-4700-8c8e-216363ad6175",
   "metadata": {},
   "outputs": [
    {
     "name": "stdout",
     "output_type": "stream",
     "text": [
      "Player Name :   SHakib basunia\n",
      "Birth 2002.0\n",
      "<class 'bool'>\n"
     ]
    }
   ],
   "source": [
    "name=\"SHakib basunia\"\n",
    "Birth_Year=2002.0\n",
    "Gender_BOY= True\n",
    "print('Player Name :  ', name)\n",
    "print('Birth', Birth_Year)\n",
    "print(type(Gender_BOY))"
   ]
  },
  {
   "cell_type": "code",
   "execution_count": 50,
   "id": "75ee3f26-39e4-4c21-a79f-3b206bf4db88",
   "metadata": {},
   "outputs": [
    {
     "name": "stdout",
     "output_type": "stream",
     "text": [
      "False\n"
     ]
    }
   ],
   "source": [
    "a=1\n",
    "v=5\n",
    "print(a>v)"
   ]
  },
  {
   "cell_type": "code",
   "execution_count": null,
   "id": "a0e10212-bc42-4e2d-a4a1-e377158f229e",
   "metadata": {},
   "outputs": [],
   "source": [
    "Membership Operator"
   ]
  },
  {
   "cell_type": "code",
   "execution_count": 72,
   "id": "0508b673-dc84-4afc-9e27-0c9a91884c60",
   "metadata": {},
   "outputs": [
    {
     "name": "stdout",
     "output_type": "stream",
     "text": [
      "False\n",
      "True\n",
      "False\n"
     ]
    }
   ],
   "source": [
    "x='shakibb'\n",
    "y='sha'\n",
    "z='shab'\n",
    "print(x in y)\n",
    "print(y in x)\n",
    "print(z in x)"
   ]
  },
  {
   "cell_type": "code",
   "execution_count": null,
   "id": "848d8394-e98e-4f3c-960c-289873b2a491",
   "metadata": {},
   "outputs": [],
   "source": []
  }
 ],
 "metadata": {
  "kernelspec": {
   "display_name": "Python 3 (ipykernel)",
   "language": "python",
   "name": "python3"
  },
  "language_info": {
   "codemirror_mode": {
    "name": "ipython",
    "version": 3
   },
   "file_extension": ".py",
   "mimetype": "text/x-python",
   "name": "python",
   "nbconvert_exporter": "python",
   "pygments_lexer": "ipython3",
   "version": "3.12.4"
  }
 },
 "nbformat": 4,
 "nbformat_minor": 5
}
